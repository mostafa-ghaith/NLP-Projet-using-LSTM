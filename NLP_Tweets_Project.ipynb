{
  "nbformat": 4,
  "nbformat_minor": 0,
  "metadata": {
    "colab": {
      "provenance": [],
      "collapsed_sections": [
        "wFyliD4nsEtj",
        "MOVlsQ46tSq0"
      ]
    },
    "kernelspec": {
      "name": "python3",
      "display_name": "Python 3"
    },
    "language_info": {
      "name": "python"
    }
  },
  "cells": [
    {
      "cell_type": "markdown",
      "source": [
        "# ** Tweets Toxicity using NLP**\n",
        "This project is about training an RNN model using LSTM technique to predict if a tweet is really linked to a disaster or not."
      ],
      "metadata": {
        "id": "BsqSmKmErHDM"
      }
    },
    {
      "cell_type": "markdown",
      "source": [
        "# Importing Libraries"
      ],
      "metadata": {
        "id": "Hmp007F5sAXe"
      }
    },
    {
      "cell_type": "code",
      "execution_count": 22,
      "metadata": {
        "id": "TmR4GncsX6H_",
        "colab": {
          "base_uri": "https://localhost:8080/"
        },
        "outputId": "5b702610-9b37-4bbb-86e0-f764082c50aa"
      },
      "outputs": [
        {
          "output_type": "stream",
          "name": "stderr",
          "text": [
            "[nltk_data] Downloading package punkt to /root/nltk_data...\n",
            "[nltk_data]   Package punkt is already up-to-date!\n",
            "[nltk_data] Downloading package stopwords to /root/nltk_data...\n",
            "[nltk_data]   Package stopwords is already up-to-date!\n"
          ]
        }
      ],
      "source": [
        "import pandas as pd\n",
        "import numpy as np\n",
        "import matplotlib.pyplot as plt\n",
        "import seaborn as sns\n",
        "import re\n",
        "import nltk \n",
        "nltk.download('punkt')\n",
        "nltk.download('stopwords')\n",
        "from nltk.corpus import stopwords\n",
        "from nltk.tokenize import word_tokenize \n",
        "from nltk.stem import SnowballStemmer\n",
        "import tensorflow as tf\n",
        "from tensorflow.keras.models import Model\n",
        "from tensorflow.keras.preprocessing.text import Tokenizer\n",
        "from tensorflow.keras.preprocessing.sequence import pad_sequences\n",
        "from tensorflow.keras.layers import Conv1D, Bidirectional, LSTM, Dense, Dropout, Input\n",
        "from tensorflow.keras.optimizers import Adam\n",
        "from sklearn import model_selection"
      ]
    },
    {
      "cell_type": "markdown",
      "source": [
        "# Uploading The dataset"
      ],
      "metadata": {
        "id": "wFyliD4nsEtj"
      }
    },
    {
      "cell_type": "code",
      "source": [
        "train_file_path = \"./train.csv\"\n",
        "train_data = pd.read_csv(train_file_path)\n",
        "train_data.head()"
      ],
      "metadata": {
        "colab": {
          "base_uri": "https://localhost:8080/",
          "height": 0
        },
        "id": "r3wtRtbWZPs4",
        "outputId": "365a04ab-48e6-4f0b-ca3b-f3e08f401f7b"
      },
      "execution_count": 4,
      "outputs": [
        {
          "output_type": "execute_result",
          "data": {
            "text/plain": [
              "   id keyword location                                               text  \\\n",
              "0   1     NaN      NaN  Our Deeds are the Reason of this #earthquake M...   \n",
              "1   4     NaN      NaN             Forest fire near La Ronge Sask. Canada   \n",
              "2   5     NaN      NaN  All residents asked to 'shelter in place' are ...   \n",
              "3   6     NaN      NaN  13,000 people receive #wildfires evacuation or...   \n",
              "4   7     NaN      NaN  Just got sent this photo from Ruby #Alaska as ...   \n",
              "\n",
              "   target  \n",
              "0       1  \n",
              "1       1  \n",
              "2       1  \n",
              "3       1  \n",
              "4       1  "
            ],
            "text/html": [
              "\n",
              "  <div id=\"df-72f33b17-41ca-426d-87ad-96708b2ca6de\">\n",
              "    <div class=\"colab-df-container\">\n",
              "      <div>\n",
              "<style scoped>\n",
              "    .dataframe tbody tr th:only-of-type {\n",
              "        vertical-align: middle;\n",
              "    }\n",
              "\n",
              "    .dataframe tbody tr th {\n",
              "        vertical-align: top;\n",
              "    }\n",
              "\n",
              "    .dataframe thead th {\n",
              "        text-align: right;\n",
              "    }\n",
              "</style>\n",
              "<table border=\"1\" class=\"dataframe\">\n",
              "  <thead>\n",
              "    <tr style=\"text-align: right;\">\n",
              "      <th></th>\n",
              "      <th>id</th>\n",
              "      <th>keyword</th>\n",
              "      <th>location</th>\n",
              "      <th>text</th>\n",
              "      <th>target</th>\n",
              "    </tr>\n",
              "  </thead>\n",
              "  <tbody>\n",
              "    <tr>\n",
              "      <th>0</th>\n",
              "      <td>1</td>\n",
              "      <td>NaN</td>\n",
              "      <td>NaN</td>\n",
              "      <td>Our Deeds are the Reason of this #earthquake M...</td>\n",
              "      <td>1</td>\n",
              "    </tr>\n",
              "    <tr>\n",
              "      <th>1</th>\n",
              "      <td>4</td>\n",
              "      <td>NaN</td>\n",
              "      <td>NaN</td>\n",
              "      <td>Forest fire near La Ronge Sask. Canada</td>\n",
              "      <td>1</td>\n",
              "    </tr>\n",
              "    <tr>\n",
              "      <th>2</th>\n",
              "      <td>5</td>\n",
              "      <td>NaN</td>\n",
              "      <td>NaN</td>\n",
              "      <td>All residents asked to 'shelter in place' are ...</td>\n",
              "      <td>1</td>\n",
              "    </tr>\n",
              "    <tr>\n",
              "      <th>3</th>\n",
              "      <td>6</td>\n",
              "      <td>NaN</td>\n",
              "      <td>NaN</td>\n",
              "      <td>13,000 people receive #wildfires evacuation or...</td>\n",
              "      <td>1</td>\n",
              "    </tr>\n",
              "    <tr>\n",
              "      <th>4</th>\n",
              "      <td>7</td>\n",
              "      <td>NaN</td>\n",
              "      <td>NaN</td>\n",
              "      <td>Just got sent this photo from Ruby #Alaska as ...</td>\n",
              "      <td>1</td>\n",
              "    </tr>\n",
              "  </tbody>\n",
              "</table>\n",
              "</div>\n",
              "      <button class=\"colab-df-convert\" onclick=\"convertToInteractive('df-72f33b17-41ca-426d-87ad-96708b2ca6de')\"\n",
              "              title=\"Convert this dataframe to an interactive table.\"\n",
              "              style=\"display:none;\">\n",
              "        \n",
              "  <svg xmlns=\"http://www.w3.org/2000/svg\" height=\"24px\"viewBox=\"0 0 24 24\"\n",
              "       width=\"24px\">\n",
              "    <path d=\"M0 0h24v24H0V0z\" fill=\"none\"/>\n",
              "    <path d=\"M18.56 5.44l.94 2.06.94-2.06 2.06-.94-2.06-.94-.94-2.06-.94 2.06-2.06.94zm-11 1L8.5 8.5l.94-2.06 2.06-.94-2.06-.94L8.5 2.5l-.94 2.06-2.06.94zm10 10l.94 2.06.94-2.06 2.06-.94-2.06-.94-.94-2.06-.94 2.06-2.06.94z\"/><path d=\"M17.41 7.96l-1.37-1.37c-.4-.4-.92-.59-1.43-.59-.52 0-1.04.2-1.43.59L10.3 9.45l-7.72 7.72c-.78.78-.78 2.05 0 2.83L4 21.41c.39.39.9.59 1.41.59.51 0 1.02-.2 1.41-.59l7.78-7.78 2.81-2.81c.8-.78.8-2.07 0-2.86zM5.41 20L4 18.59l7.72-7.72 1.47 1.35L5.41 20z\"/>\n",
              "  </svg>\n",
              "      </button>\n",
              "      \n",
              "  <style>\n",
              "    .colab-df-container {\n",
              "      display:flex;\n",
              "      flex-wrap:wrap;\n",
              "      gap: 12px;\n",
              "    }\n",
              "\n",
              "    .colab-df-convert {\n",
              "      background-color: #E8F0FE;\n",
              "      border: none;\n",
              "      border-radius: 50%;\n",
              "      cursor: pointer;\n",
              "      display: none;\n",
              "      fill: #1967D2;\n",
              "      height: 32px;\n",
              "      padding: 0 0 0 0;\n",
              "      width: 32px;\n",
              "    }\n",
              "\n",
              "    .colab-df-convert:hover {\n",
              "      background-color: #E2EBFA;\n",
              "      box-shadow: 0px 1px 2px rgba(60, 64, 67, 0.3), 0px 1px 3px 1px rgba(60, 64, 67, 0.15);\n",
              "      fill: #174EA6;\n",
              "    }\n",
              "\n",
              "    [theme=dark] .colab-df-convert {\n",
              "      background-color: #3B4455;\n",
              "      fill: #D2E3FC;\n",
              "    }\n",
              "\n",
              "    [theme=dark] .colab-df-convert:hover {\n",
              "      background-color: #434B5C;\n",
              "      box-shadow: 0px 1px 3px 1px rgba(0, 0, 0, 0.15);\n",
              "      filter: drop-shadow(0px 1px 2px rgba(0, 0, 0, 0.3));\n",
              "      fill: #FFFFFF;\n",
              "    }\n",
              "  </style>\n",
              "\n",
              "      <script>\n",
              "        const buttonEl =\n",
              "          document.querySelector('#df-72f33b17-41ca-426d-87ad-96708b2ca6de button.colab-df-convert');\n",
              "        buttonEl.style.display =\n",
              "          google.colab.kernel.accessAllowed ? 'block' : 'none';\n",
              "\n",
              "        async function convertToInteractive(key) {\n",
              "          const element = document.querySelector('#df-72f33b17-41ca-426d-87ad-96708b2ca6de');\n",
              "          const dataTable =\n",
              "            await google.colab.kernel.invokeFunction('convertToInteractive',\n",
              "                                                     [key], {});\n",
              "          if (!dataTable) return;\n",
              "\n",
              "          const docLinkHtml = 'Like what you see? Visit the ' +\n",
              "            '<a target=\"_blank\" href=https://colab.research.google.com/notebooks/data_table.ipynb>data table notebook</a>'\n",
              "            + ' to learn more about interactive tables.';\n",
              "          element.innerHTML = '';\n",
              "          dataTable['output_type'] = 'display_data';\n",
              "          await google.colab.output.renderOutput(dataTable, element);\n",
              "          const docLink = document.createElement('div');\n",
              "          docLink.innerHTML = docLinkHtml;\n",
              "          element.appendChild(docLink);\n",
              "        }\n",
              "      </script>\n",
              "    </div>\n",
              "  </div>\n",
              "  "
            ]
          },
          "metadata": {},
          "execution_count": 4
        }
      ]
    },
    {
      "cell_type": "code",
      "source": [
        "test_file_path = \"./test.csv\"\n",
        "test_data = pd.read_csv(test_file_path)\n",
        "test_data.head()"
      ],
      "metadata": {
        "colab": {
          "base_uri": "https://localhost:8080/",
          "height": 0
        },
        "id": "EGddue15gJTv",
        "outputId": "6b8f0251-b1cb-453b-ca3c-dfc9a55d2c99"
      },
      "execution_count": 5,
      "outputs": [
        {
          "output_type": "execute_result",
          "data": {
            "text/plain": [
              "   id keyword location                                               text\n",
              "0   0     NaN      NaN                 Just happened a terrible car crash\n",
              "1   2     NaN      NaN  Heard about #earthquake is different cities, s...\n",
              "2   3     NaN      NaN  there is a forest fire at spot pond, geese are...\n",
              "3   9     NaN      NaN           Apocalypse lighting. #Spokane #wildfires\n",
              "4  11     NaN      NaN      Typhoon Soudelor kills 28 in China and Taiwan"
            ],
            "text/html": [
              "\n",
              "  <div id=\"df-e7013af8-e2fc-4310-917b-36e632aead1e\">\n",
              "    <div class=\"colab-df-container\">\n",
              "      <div>\n",
              "<style scoped>\n",
              "    .dataframe tbody tr th:only-of-type {\n",
              "        vertical-align: middle;\n",
              "    }\n",
              "\n",
              "    .dataframe tbody tr th {\n",
              "        vertical-align: top;\n",
              "    }\n",
              "\n",
              "    .dataframe thead th {\n",
              "        text-align: right;\n",
              "    }\n",
              "</style>\n",
              "<table border=\"1\" class=\"dataframe\">\n",
              "  <thead>\n",
              "    <tr style=\"text-align: right;\">\n",
              "      <th></th>\n",
              "      <th>id</th>\n",
              "      <th>keyword</th>\n",
              "      <th>location</th>\n",
              "      <th>text</th>\n",
              "    </tr>\n",
              "  </thead>\n",
              "  <tbody>\n",
              "    <tr>\n",
              "      <th>0</th>\n",
              "      <td>0</td>\n",
              "      <td>NaN</td>\n",
              "      <td>NaN</td>\n",
              "      <td>Just happened a terrible car crash</td>\n",
              "    </tr>\n",
              "    <tr>\n",
              "      <th>1</th>\n",
              "      <td>2</td>\n",
              "      <td>NaN</td>\n",
              "      <td>NaN</td>\n",
              "      <td>Heard about #earthquake is different cities, s...</td>\n",
              "    </tr>\n",
              "    <tr>\n",
              "      <th>2</th>\n",
              "      <td>3</td>\n",
              "      <td>NaN</td>\n",
              "      <td>NaN</td>\n",
              "      <td>there is a forest fire at spot pond, geese are...</td>\n",
              "    </tr>\n",
              "    <tr>\n",
              "      <th>3</th>\n",
              "      <td>9</td>\n",
              "      <td>NaN</td>\n",
              "      <td>NaN</td>\n",
              "      <td>Apocalypse lighting. #Spokane #wildfires</td>\n",
              "    </tr>\n",
              "    <tr>\n",
              "      <th>4</th>\n",
              "      <td>11</td>\n",
              "      <td>NaN</td>\n",
              "      <td>NaN</td>\n",
              "      <td>Typhoon Soudelor kills 28 in China and Taiwan</td>\n",
              "    </tr>\n",
              "  </tbody>\n",
              "</table>\n",
              "</div>\n",
              "      <button class=\"colab-df-convert\" onclick=\"convertToInteractive('df-e7013af8-e2fc-4310-917b-36e632aead1e')\"\n",
              "              title=\"Convert this dataframe to an interactive table.\"\n",
              "              style=\"display:none;\">\n",
              "        \n",
              "  <svg xmlns=\"http://www.w3.org/2000/svg\" height=\"24px\"viewBox=\"0 0 24 24\"\n",
              "       width=\"24px\">\n",
              "    <path d=\"M0 0h24v24H0V0z\" fill=\"none\"/>\n",
              "    <path d=\"M18.56 5.44l.94 2.06.94-2.06 2.06-.94-2.06-.94-.94-2.06-.94 2.06-2.06.94zm-11 1L8.5 8.5l.94-2.06 2.06-.94-2.06-.94L8.5 2.5l-.94 2.06-2.06.94zm10 10l.94 2.06.94-2.06 2.06-.94-2.06-.94-.94-2.06-.94 2.06-2.06.94z\"/><path d=\"M17.41 7.96l-1.37-1.37c-.4-.4-.92-.59-1.43-.59-.52 0-1.04.2-1.43.59L10.3 9.45l-7.72 7.72c-.78.78-.78 2.05 0 2.83L4 21.41c.39.39.9.59 1.41.59.51 0 1.02-.2 1.41-.59l7.78-7.78 2.81-2.81c.8-.78.8-2.07 0-2.86zM5.41 20L4 18.59l7.72-7.72 1.47 1.35L5.41 20z\"/>\n",
              "  </svg>\n",
              "      </button>\n",
              "      \n",
              "  <style>\n",
              "    .colab-df-container {\n",
              "      display:flex;\n",
              "      flex-wrap:wrap;\n",
              "      gap: 12px;\n",
              "    }\n",
              "\n",
              "    .colab-df-convert {\n",
              "      background-color: #E8F0FE;\n",
              "      border: none;\n",
              "      border-radius: 50%;\n",
              "      cursor: pointer;\n",
              "      display: none;\n",
              "      fill: #1967D2;\n",
              "      height: 32px;\n",
              "      padding: 0 0 0 0;\n",
              "      width: 32px;\n",
              "    }\n",
              "\n",
              "    .colab-df-convert:hover {\n",
              "      background-color: #E2EBFA;\n",
              "      box-shadow: 0px 1px 2px rgba(60, 64, 67, 0.3), 0px 1px 3px 1px rgba(60, 64, 67, 0.15);\n",
              "      fill: #174EA6;\n",
              "    }\n",
              "\n",
              "    [theme=dark] .colab-df-convert {\n",
              "      background-color: #3B4455;\n",
              "      fill: #D2E3FC;\n",
              "    }\n",
              "\n",
              "    [theme=dark] .colab-df-convert:hover {\n",
              "      background-color: #434B5C;\n",
              "      box-shadow: 0px 1px 3px 1px rgba(0, 0, 0, 0.15);\n",
              "      filter: drop-shadow(0px 1px 2px rgba(0, 0, 0, 0.3));\n",
              "      fill: #FFFFFF;\n",
              "    }\n",
              "  </style>\n",
              "\n",
              "      <script>\n",
              "        const buttonEl =\n",
              "          document.querySelector('#df-e7013af8-e2fc-4310-917b-36e632aead1e button.colab-df-convert');\n",
              "        buttonEl.style.display =\n",
              "          google.colab.kernel.accessAllowed ? 'block' : 'none';\n",
              "\n",
              "        async function convertToInteractive(key) {\n",
              "          const element = document.querySelector('#df-e7013af8-e2fc-4310-917b-36e632aead1e');\n",
              "          const dataTable =\n",
              "            await google.colab.kernel.invokeFunction('convertToInteractive',\n",
              "                                                     [key], {});\n",
              "          if (!dataTable) return;\n",
              "\n",
              "          const docLinkHtml = 'Like what you see? Visit the ' +\n",
              "            '<a target=\"_blank\" href=https://colab.research.google.com/notebooks/data_table.ipynb>data table notebook</a>'\n",
              "            + ' to learn more about interactive tables.';\n",
              "          element.innerHTML = '';\n",
              "          dataTable['output_type'] = 'display_data';\n",
              "          await google.colab.output.renderOutput(dataTable, element);\n",
              "          const docLink = document.createElement('div');\n",
              "          docLink.innerHTML = docLinkHtml;\n",
              "          element.appendChild(docLink);\n",
              "        }\n",
              "      </script>\n",
              "    </div>\n",
              "  </div>\n",
              "  "
            ]
          },
          "metadata": {},
          "execution_count": 5
        }
      ]
    },
    {
      "cell_type": "markdown",
      "source": [
        "# Understanding data distribution"
      ],
      "metadata": {
        "id": "MOVlsQ46tSq0"
      }
    },
    {
      "cell_type": "markdown",
      "source": [
        "**Checking for missing entries**"
      ],
      "metadata": {
        "id": "UiLQpkUBsLfN"
      }
    },
    {
      "cell_type": "code",
      "source": [
        "train_data.info()"
      ],
      "metadata": {
        "colab": {
          "base_uri": "https://localhost:8080/"
        },
        "id": "dhmLoY18Z1ud",
        "outputId": "38331ff9-4a9d-415e-f270-49939656167a"
      },
      "execution_count": 6,
      "outputs": [
        {
          "output_type": "stream",
          "name": "stdout",
          "text": [
            "<class 'pandas.core.frame.DataFrame'>\n",
            "RangeIndex: 7613 entries, 0 to 7612\n",
            "Data columns (total 5 columns):\n",
            " #   Column    Non-Null Count  Dtype \n",
            "---  ------    --------------  ----- \n",
            " 0   id        7613 non-null   int64 \n",
            " 1   keyword   7552 non-null   object\n",
            " 2   location  5080 non-null   object\n",
            " 3   text      7613 non-null   object\n",
            " 4   target    7613 non-null   int64 \n",
            "dtypes: int64(2), object(3)\n",
            "memory usage: 297.5+ KB\n"
          ]
        }
      ]
    },
    {
      "cell_type": "code",
      "source": [
        "train_data['id'].count()"
      ],
      "metadata": {
        "colab": {
          "base_uri": "https://localhost:8080/"
        },
        "id": "osIakOm1Z4l9",
        "outputId": "790c6906-39c0-4189-d9a0-5c861cc57f39"
      },
      "execution_count": 7,
      "outputs": [
        {
          "output_type": "execute_result",
          "data": {
            "text/plain": [
              "7613"
            ]
          },
          "metadata": {},
          "execution_count": 7
        }
      ]
    },
    {
      "cell_type": "code",
      "source": [
        "test_data['id'].count()"
      ],
      "metadata": {
        "colab": {
          "base_uri": "https://localhost:8080/"
        },
        "id": "ZBFeUmeTgYdE",
        "outputId": "e293beec-61bf-4668-d19c-0b8c4ad6c24f"
      },
      "execution_count": 8,
      "outputs": [
        {
          "output_type": "execute_result",
          "data": {
            "text/plain": [
              "3263"
            ]
          },
          "metadata": {},
          "execution_count": 8
        }
      ]
    },
    {
      "cell_type": "markdown",
      "source": [
        "I decided to do my analysis on the whole dataset not just the train dataset.\n",
        "So, I concatenated the train and test datasets to one dataset."
      ],
      "metadata": {
        "id": "jN7xzVYRsa8D"
      }
    },
    {
      "cell_type": "code",
      "source": [
        "train_data_without_target = train_data.drop(\"target\", axis=1, inplace=False)\n",
        "dataset=pd.concat([train_data_without_target ,test_data],axis=0)\n",
        "dataset.head()"
      ],
      "metadata": {
        "colab": {
          "base_uri": "https://localhost:8080/",
          "height": 0
        },
        "id": "4bnkEOUFggjx",
        "outputId": "377a5fd8-95f1-4341-fbc3-1bdcee74f60d"
      },
      "execution_count": 9,
      "outputs": [
        {
          "output_type": "execute_result",
          "data": {
            "text/plain": [
              "   id keyword location                                               text\n",
              "0   1     NaN      NaN  Our Deeds are the Reason of this #earthquake M...\n",
              "1   4     NaN      NaN             Forest fire near La Ronge Sask. Canada\n",
              "2   5     NaN      NaN  All residents asked to 'shelter in place' are ...\n",
              "3   6     NaN      NaN  13,000 people receive #wildfires evacuation or...\n",
              "4   7     NaN      NaN  Just got sent this photo from Ruby #Alaska as ..."
            ],
            "text/html": [
              "\n",
              "  <div id=\"df-5e3b6f63-580f-432d-90be-d6f5cbc4e04f\">\n",
              "    <div class=\"colab-df-container\">\n",
              "      <div>\n",
              "<style scoped>\n",
              "    .dataframe tbody tr th:only-of-type {\n",
              "        vertical-align: middle;\n",
              "    }\n",
              "\n",
              "    .dataframe tbody tr th {\n",
              "        vertical-align: top;\n",
              "    }\n",
              "\n",
              "    .dataframe thead th {\n",
              "        text-align: right;\n",
              "    }\n",
              "</style>\n",
              "<table border=\"1\" class=\"dataframe\">\n",
              "  <thead>\n",
              "    <tr style=\"text-align: right;\">\n",
              "      <th></th>\n",
              "      <th>id</th>\n",
              "      <th>keyword</th>\n",
              "      <th>location</th>\n",
              "      <th>text</th>\n",
              "    </tr>\n",
              "  </thead>\n",
              "  <tbody>\n",
              "    <tr>\n",
              "      <th>0</th>\n",
              "      <td>1</td>\n",
              "      <td>NaN</td>\n",
              "      <td>NaN</td>\n",
              "      <td>Our Deeds are the Reason of this #earthquake M...</td>\n",
              "    </tr>\n",
              "    <tr>\n",
              "      <th>1</th>\n",
              "      <td>4</td>\n",
              "      <td>NaN</td>\n",
              "      <td>NaN</td>\n",
              "      <td>Forest fire near La Ronge Sask. Canada</td>\n",
              "    </tr>\n",
              "    <tr>\n",
              "      <th>2</th>\n",
              "      <td>5</td>\n",
              "      <td>NaN</td>\n",
              "      <td>NaN</td>\n",
              "      <td>All residents asked to 'shelter in place' are ...</td>\n",
              "    </tr>\n",
              "    <tr>\n",
              "      <th>3</th>\n",
              "      <td>6</td>\n",
              "      <td>NaN</td>\n",
              "      <td>NaN</td>\n",
              "      <td>13,000 people receive #wildfires evacuation or...</td>\n",
              "    </tr>\n",
              "    <tr>\n",
              "      <th>4</th>\n",
              "      <td>7</td>\n",
              "      <td>NaN</td>\n",
              "      <td>NaN</td>\n",
              "      <td>Just got sent this photo from Ruby #Alaska as ...</td>\n",
              "    </tr>\n",
              "  </tbody>\n",
              "</table>\n",
              "</div>\n",
              "      <button class=\"colab-df-convert\" onclick=\"convertToInteractive('df-5e3b6f63-580f-432d-90be-d6f5cbc4e04f')\"\n",
              "              title=\"Convert this dataframe to an interactive table.\"\n",
              "              style=\"display:none;\">\n",
              "        \n",
              "  <svg xmlns=\"http://www.w3.org/2000/svg\" height=\"24px\"viewBox=\"0 0 24 24\"\n",
              "       width=\"24px\">\n",
              "    <path d=\"M0 0h24v24H0V0z\" fill=\"none\"/>\n",
              "    <path d=\"M18.56 5.44l.94 2.06.94-2.06 2.06-.94-2.06-.94-.94-2.06-.94 2.06-2.06.94zm-11 1L8.5 8.5l.94-2.06 2.06-.94-2.06-.94L8.5 2.5l-.94 2.06-2.06.94zm10 10l.94 2.06.94-2.06 2.06-.94-2.06-.94-.94-2.06-.94 2.06-2.06.94z\"/><path d=\"M17.41 7.96l-1.37-1.37c-.4-.4-.92-.59-1.43-.59-.52 0-1.04.2-1.43.59L10.3 9.45l-7.72 7.72c-.78.78-.78 2.05 0 2.83L4 21.41c.39.39.9.59 1.41.59.51 0 1.02-.2 1.41-.59l7.78-7.78 2.81-2.81c.8-.78.8-2.07 0-2.86zM5.41 20L4 18.59l7.72-7.72 1.47 1.35L5.41 20z\"/>\n",
              "  </svg>\n",
              "      </button>\n",
              "      \n",
              "  <style>\n",
              "    .colab-df-container {\n",
              "      display:flex;\n",
              "      flex-wrap:wrap;\n",
              "      gap: 12px;\n",
              "    }\n",
              "\n",
              "    .colab-df-convert {\n",
              "      background-color: #E8F0FE;\n",
              "      border: none;\n",
              "      border-radius: 50%;\n",
              "      cursor: pointer;\n",
              "      display: none;\n",
              "      fill: #1967D2;\n",
              "      height: 32px;\n",
              "      padding: 0 0 0 0;\n",
              "      width: 32px;\n",
              "    }\n",
              "\n",
              "    .colab-df-convert:hover {\n",
              "      background-color: #E2EBFA;\n",
              "      box-shadow: 0px 1px 2px rgba(60, 64, 67, 0.3), 0px 1px 3px 1px rgba(60, 64, 67, 0.15);\n",
              "      fill: #174EA6;\n",
              "    }\n",
              "\n",
              "    [theme=dark] .colab-df-convert {\n",
              "      background-color: #3B4455;\n",
              "      fill: #D2E3FC;\n",
              "    }\n",
              "\n",
              "    [theme=dark] .colab-df-convert:hover {\n",
              "      background-color: #434B5C;\n",
              "      box-shadow: 0px 1px 3px 1px rgba(0, 0, 0, 0.15);\n",
              "      filter: drop-shadow(0px 1px 2px rgba(0, 0, 0, 0.3));\n",
              "      fill: #FFFFFF;\n",
              "    }\n",
              "  </style>\n",
              "\n",
              "      <script>\n",
              "        const buttonEl =\n",
              "          document.querySelector('#df-5e3b6f63-580f-432d-90be-d6f5cbc4e04f button.colab-df-convert');\n",
              "        buttonEl.style.display =\n",
              "          google.colab.kernel.accessAllowed ? 'block' : 'none';\n",
              "\n",
              "        async function convertToInteractive(key) {\n",
              "          const element = document.querySelector('#df-5e3b6f63-580f-432d-90be-d6f5cbc4e04f');\n",
              "          const dataTable =\n",
              "            await google.colab.kernel.invokeFunction('convertToInteractive',\n",
              "                                                     [key], {});\n",
              "          if (!dataTable) return;\n",
              "\n",
              "          const docLinkHtml = 'Like what you see? Visit the ' +\n",
              "            '<a target=\"_blank\" href=https://colab.research.google.com/notebooks/data_table.ipynb>data table notebook</a>'\n",
              "            + ' to learn more about interactive tables.';\n",
              "          element.innerHTML = '';\n",
              "          dataTable['output_type'] = 'display_data';\n",
              "          await google.colab.output.renderOutput(dataTable, element);\n",
              "          const docLink = document.createElement('div');\n",
              "          docLink.innerHTML = docLinkHtml;\n",
              "          element.appendChild(docLink);\n",
              "        }\n",
              "      </script>\n",
              "    </div>\n",
              "  </div>\n",
              "  "
            ]
          },
          "metadata": {},
          "execution_count": 9
        }
      ]
    },
    {
      "cell_type": "code",
      "source": [
        "train_data['target'].isnull().sum()"
      ],
      "metadata": {
        "colab": {
          "base_uri": "https://localhost:8080/"
        },
        "id": "twTFusdZaC39",
        "outputId": "3ecd304e-7868-4b68-a4c5-0e5f63c47edf"
      },
      "execution_count": 10,
      "outputs": [
        {
          "output_type": "execute_result",
          "data": {
            "text/plain": [
              "0"
            ]
          },
          "metadata": {},
          "execution_count": 10
        }
      ]
    },
    {
      "cell_type": "markdown",
      "source": [
        "Calculating the percentage of missing entries in each class."
      ],
      "metadata": {
        "id": "u2_g863rss5G"
      }
    },
    {
      "cell_type": "code",
      "source": [
        "percentage_missing=(dataset.isnull().sum()/dataset['id'].count())*100\n",
        "percentage_missing"
      ],
      "metadata": {
        "colab": {
          "base_uri": "https://localhost:8080/"
        },
        "id": "U19TjMPaa-WG",
        "outputId": "7b404567-b03f-4b77-f6e7-0d9bbc3d1c55"
      },
      "execution_count": 11,
      "outputs": [
        {
          "output_type": "execute_result",
          "data": {
            "text/plain": [
              "id           0.000000\n",
              "keyword      0.799926\n",
              "location    33.449798\n",
              "text         0.000000\n",
              "dtype: float64"
            ]
          },
          "metadata": {},
          "execution_count": 11
        }
      ]
    },
    {
      "cell_type": "markdown",
      "source": [
        "Calculating the count of unique entries in each class."
      ],
      "metadata": {
        "id": "b_eKlbAHs1WF"
      }
    },
    {
      "cell_type": "code",
      "source": [
        "keyword_value_count = dataset['keyword'].value_counts()\n",
        "location_value_count = dataset['location'].value_counts()\n",
        "target_value_count = train_data['target'].value_counts()\n",
        "\n",
        "print('keyword_value_count:\\n',keyword_value_count)\n",
        "print('location_value_count:\\n',location_value_count)\n",
        "print('target_value_count:\\n',target_value_count)"
      ],
      "metadata": {
        "colab": {
          "base_uri": "https://localhost:8080/"
        },
        "id": "Xj9n1jYRbvsz",
        "outputId": "7ed7f88b-d5c4-49e6-b0f2-2a358a619ff8"
      },
      "execution_count": 12,
      "outputs": [
        {
          "output_type": "stream",
          "name": "stdout",
          "text": [
            "keyword_value_count:\n",
            " ablaze                   50\n",
            "lava                     50\n",
            "loud%20bang              50\n",
            "mass%20murder            50\n",
            "massacre                 50\n",
            "                         ..\n",
            "forest%20fire            24\n",
            "threat                   16\n",
            "radiation%20emergency    14\n",
            "inundation               14\n",
            "epicentre                13\n",
            "Name: keyword, Length: 221, dtype: int64\n",
            "location_value_count:\n",
            " USA                       141\n",
            "New York                  109\n",
            "United States              65\n",
            "London                     58\n",
            "Canada                     42\n",
            "                         ... \n",
            "Brooklyn                    1\n",
            "St.Cloud, MN                1\n",
            "on a catwalk somewhere      1\n",
            "  å_                        1\n",
            "Brussels, Belgium           1\n",
            "Name: location, Length: 4521, dtype: int64\n",
            "target_value_count:\n",
            " 0    4342\n",
            "1    3271\n",
            "Name: target, dtype: int64\n"
          ]
        }
      ]
    },
    {
      "cell_type": "markdown",
      "source": [
        "Getting the top 15 locations and keywords."
      ],
      "metadata": {
        "id": "vWOKNOe0s9lO"
      }
    },
    {
      "cell_type": "code",
      "source": [
        "top_15_locations = dataset['location'].value_counts()[0:15]\n",
        "print(top_15_locations)"
      ],
      "metadata": {
        "colab": {
          "base_uri": "https://localhost:8080/"
        },
        "id": "mLdAFBBecTfs",
        "outputId": "1a7703d1-4f10-4f79-8810-ef2fb74a2e37"
      },
      "execution_count": 13,
      "outputs": [
        {
          "output_type": "stream",
          "name": "stdout",
          "text": [
            "USA                141\n",
            "New York           109\n",
            "United States       65\n",
            "London              58\n",
            "Canada              42\n",
            "Nigeria             40\n",
            "Worldwide           35\n",
            "India               35\n",
            "Los Angeles, CA     34\n",
            "UK                  33\n",
            "Kenya               32\n",
            "Washington, DC      31\n",
            "Mumbai              28\n",
            "United Kingdom      26\n",
            "California          25\n",
            "Name: location, dtype: int64\n"
          ]
        }
      ]
    },
    {
      "cell_type": "code",
      "source": [
        "top_15_keywords = dataset['keyword'].value_counts()[0:15]\n",
        "print(top_15_keywords)"
      ],
      "metadata": {
        "colab": {
          "base_uri": "https://localhost:8080/"
        },
        "id": "WAtSBPOpfVYk",
        "outputId": "07268630-3fec-4171-9d9e-d301bcdb9c72"
      },
      "execution_count": 14,
      "outputs": [
        {
          "output_type": "stream",
          "name": "stdout",
          "text": [
            "ablaze                50\n",
            "lava                  50\n",
            "loud%20bang           50\n",
            "mass%20murder         50\n",
            "massacre              50\n",
            "mayhem                50\n",
            "meltdown              50\n",
            "military              50\n",
            "mudslide              50\n",
            "natural%20disaster    50\n",
            "nuclear%20disaster    50\n",
            "nuclear%20reactor     50\n",
            "obliterate            50\n",
            "obliterated           50\n",
            "obliteration          50\n",
            "Name: keyword, dtype: int64\n"
          ]
        }
      ]
    },
    {
      "cell_type": "markdown",
      "source": [
        "# Data Preprocessing"
      ],
      "metadata": {
        "id": "W-sE5wOptHY2"
      }
    },
    {
      "cell_type": "markdown",
      "source": [
        "**Cleaning Text **"
      ],
      "metadata": {
        "id": "rREf4V7cyptP"
      }
    },
    {
      "cell_type": "code",
      "source": [
        "stop_words = set(stopwords.words('english'))\n",
        "stemmer = SnowballStemmer('english')\n",
        "\n",
        "def clean_text(texts):\n",
        " \n",
        "    texts_no_url = re.sub(r\"http\\S+\", \"\", texts)    # removing URL  \n",
        "    text_no_num = re.sub(r'\\d+', '', texts_no_url)   # removing numbers  \n",
        "    word_tokens = word_tokenize(text_no_num)   # tokenize each text\n",
        "  \n",
        "    clean_text = []\n",
        "    for word in word_tokens:\n",
        "        clean_text.append(\"\".join([e for e in word if e.isalnum()]))  \n",
        "    \n",
        "    text_with_no_stop_word = [w.lower() for w in clean_text if not w in stop_words]  # removing stop words and lower\n",
        "    stemmed_text = [stemmer.stem(w) for w in text_with_no_stop_word]  # stemming\n",
        "  \n",
        "    return \" \".join(\" \".join(stemmed_text).split())\n",
        "\n",
        "\n",
        "train_data['clean_text'] = train_data['text'].apply(lambda x: clean_text(x) )\n",
        "train_data['keyword'] = train_data['keyword'].fillna(\"none\")\n",
        "train_data['clean_keyword'] = train_data['keyword'].apply(lambda x: clean_text(x) )\n",
        "\n",
        "train_data['keyword_text'] = train_data['clean_keyword'] + \" \" + train_data[\"clean_text\"]"
      ],
      "metadata": {
        "id": "0PYdKWPAfujx"
      },
      "execution_count": 23,
      "outputs": []
    },
    {
      "cell_type": "markdown",
      "source": [
        "**Splitting data for training and testing** \n",
        "\n",
        "Note: I did not use the uploaded test file bvecause it does not contain a target column. So, I splitted the uploaded train file into train and test data."
      ],
      "metadata": {
        "id": "GQsR3gK_y265"
      }
    },
    {
      "cell_type": "code",
      "source": [
        "X_train, X_test,y_train, y_test = model_selection.train_test_split(train_data['keyword_text'],\n",
        "                                                                   train_data['target'],\n",
        "                                                                   test_size=0.3,\n",
        "                                                                   random_state=0, \n",
        "                                                                   shuffle=True)\n",
        "\n",
        "y_train_LSTM = y_train.values.reshape(-1,1)\n",
        "y_test_LSTM = y_test.values.reshape(-1,1)"
      ],
      "metadata": {
        "id": "qYzF_KN5m4g9"
      },
      "execution_count": 25,
      "outputs": []
    },
    {
      "cell_type": "code",
      "source": [
        "# Tokenize train data\n",
        "tokenizer = Tokenizer()\n",
        "tokenizer.fit_on_texts(X_train)\n",
        "\n",
        "word_index = tokenizer.word_index\n",
        "vocab_size = len(word_index) + 1\n",
        "print(\"Vocabulary Size: \", vocab_size)"
      ],
      "metadata": {
        "colab": {
          "base_uri": "https://localhost:8080/"
        },
        "id": "0-ieaUnPonLY",
        "outputId": "50ebc3ab-caf3-4e66-f6ab-1141ead9a65a"
      },
      "execution_count": 26,
      "outputs": [
        {
          "output_type": "stream",
          "name": "stdout",
          "text": [
            "Vocabulary Size:  11271\n"
          ]
        }
      ]
    },
    {
      "cell_type": "code",
      "source": [
        "# Pad train and test \n",
        "X_train = pad_sequences(tokenizer.texts_to_sequences(X_train), maxlen=100)\n",
        "X_test = pad_sequences(tokenizer.texts_to_sequences(X_test), maxlen=100)\n",
        "\n",
        "print(\"Training X shape: \", X_train.shape)\n",
        "print(\"Testing X shape: \", X_test.shape)"
      ],
      "metadata": {
        "colab": {
          "base_uri": "https://localhost:8080/"
        },
        "id": "59_syc9Tpq7B",
        "outputId": "78714579-93ff-4409-9d09-4d5c404ac99e"
      },
      "execution_count": 27,
      "outputs": [
        {
          "output_type": "stream",
          "name": "stdout",
          "text": [
            "Training X shape:  (5329, 100)\n",
            "Testing X shape:  (2284, 100)\n"
          ]
        }
      ]
    },
    {
      "cell_type": "code",
      "source": [
        "# embedding\n",
        "path_to_glove_file = './glove.6B.300d.txt' \n",
        "\n",
        "embeddings_index = {}\n",
        "with open(path_to_glove_file) as f:\n",
        "    for line in f:\n",
        "        word, coefs = line.split(maxsplit=1)\n",
        "        coefs = np.fromstring(coefs, \"f\", sep=\" \")\n",
        "        embeddings_index[word] = coefs\n",
        "\n",
        "print(\"Found %s word vectors.\" % len(embeddings_index))"
      ],
      "metadata": {
        "colab": {
          "base_uri": "https://localhost:8080/"
        },
        "id": "QCPLs5ADpseZ",
        "outputId": "1d0e97ca-c62c-47a7-9bfa-0aa578cf988e"
      },
      "execution_count": 28,
      "outputs": [
        {
          "output_type": "stream",
          "name": "stdout",
          "text": [
            "Found 79008 word vectors.\n"
          ]
        }
      ]
    },
    {
      "cell_type": "code",
      "source": [
        "# Define embedding layer in Keras\n",
        "embedding_matrix = np.zeros((vocab_size,  300))\n",
        "for word, i in word_index.items():\n",
        "    embedding_vector = embeddings_index.get(word)\n",
        "    if embedding_vector is not None:\n",
        "        embedding_matrix[i] = embedding_vector\n",
        "        \n",
        "embedding_layer = tf.keras.layers.Embedding(vocab_size,\n",
        "                                            300,\n",
        "                                            weights=[embedding_matrix],\n",
        "                                            input_length=100,\n",
        "                                            trainable=False)"
      ],
      "metadata": {
        "id": "BWoPCnybnWuk"
      },
      "execution_count": 30,
      "outputs": []
    },
    {
      "cell_type": "markdown",
      "source": [
        "# Model Architecture"
      ],
      "metadata": {
        "id": "kYsA6Vb7zp5A"
      }
    },
    {
      "cell_type": "code",
      "source": [
        "# Define model architecture\n",
        "sequence_input = Input(shape=(100, ), dtype='int32')\n",
        "embedding_sequences = embedding_layer(sequence_input)\n",
        "\n",
        "x = Conv1D(128, 5, activation='relu')(embedding_sequences)\n",
        "x = Bidirectional(LSTM(128, dropout=0.5, recurrent_dropout=0.2))(x)\n",
        "x = Dense(512, activation='relu')(x)\n",
        "x = Dropout(0.5)(x)\n",
        "x = Dense(512, activation='relu')(x)\n",
        "outputs = Dense(1, activation='sigmoid')(x)\n",
        "\n",
        "model = Model(sequence_input, outputs)\n",
        "model.summary()"
      ],
      "metadata": {
        "colab": {
          "base_uri": "https://localhost:8080/"
        },
        "id": "XmktdG_soPrc",
        "outputId": "039d2b7d-9aa3-49de-9bc6-a87c3baae474"
      },
      "execution_count": 31,
      "outputs": [
        {
          "output_type": "stream",
          "name": "stdout",
          "text": [
            "Model: \"model\"\n",
            "_________________________________________________________________\n",
            " Layer (type)                Output Shape              Param #   \n",
            "=================================================================\n",
            " input_1 (InputLayer)        [(None, 100)]             0         \n",
            "                                                                 \n",
            " embedding (Embedding)       (None, 100, 300)          3381300   \n",
            "                                                                 \n",
            " conv1d (Conv1D)             (None, 96, 128)           192128    \n",
            "                                                                 \n",
            " bidirectional (Bidirectiona  (None, 256)              263168    \n",
            " l)                                                              \n",
            "                                                                 \n",
            " dense (Dense)               (None, 512)               131584    \n",
            "                                                                 \n",
            " dropout (Dropout)           (None, 512)               0         \n",
            "                                                                 \n",
            " dense_1 (Dense)             (None, 512)               262656    \n",
            "                                                                 \n",
            " dense_2 (Dense)             (None, 1)                 513       \n",
            "                                                                 \n",
            "=================================================================\n",
            "Total params: 4,231,349\n",
            "Trainable params: 850,049\n",
            "Non-trainable params: 3,381,300\n",
            "_________________________________________________________________\n"
          ]
        }
      ]
    },
    {
      "cell_type": "code",
      "source": [
        "model.compile(optimizer=Adam(learning_rate=0.001), loss='binary_crossentropy', metrics=['accuracy'])"
      ],
      "metadata": {
        "id": "Z_lJ5vhzqva4"
      },
      "execution_count": 32,
      "outputs": []
    },
    {
      "cell_type": "markdown",
      "source": [
        "# Training the model"
      ],
      "metadata": {
        "id": "5SD7ANP3z7wN"
      }
    },
    {
      "cell_type": "code",
      "source": [
        "history = model.fit(X_train,\n",
        "                    y_train,\n",
        "                    batch_size=1024,\n",
        "                    epochs=20, \n",
        "                    validation_data=(X_test, y_test))"
      ],
      "metadata": {
        "colab": {
          "base_uri": "https://localhost:8080/"
        },
        "id": "s8CANC1rq7Zk",
        "outputId": "c5330b02-59e7-4370-9a86-f1b73aac7dba"
      },
      "execution_count": 33,
      "outputs": [
        {
          "output_type": "stream",
          "name": "stdout",
          "text": [
            "Epoch 1/20\n",
            "6/6 [==============================] - 62s 9s/step - loss: 0.6600 - accuracy: 0.5982 - val_loss: 0.5453 - val_accuracy: 0.7430\n",
            "Epoch 2/20\n",
            "6/6 [==============================] - 48s 8s/step - loss: 0.5437 - accuracy: 0.7504 - val_loss: 0.5375 - val_accuracy: 0.7439\n",
            "Epoch 3/20\n",
            "6/6 [==============================] - 49s 8s/step - loss: 0.5054 - accuracy: 0.7634 - val_loss: 0.5080 - val_accuracy: 0.7710\n",
            "Epoch 4/20\n",
            "6/6 [==============================] - 48s 8s/step - loss: 0.4716 - accuracy: 0.7861 - val_loss: 0.5026 - val_accuracy: 0.7798\n",
            "Epoch 5/20\n",
            "6/6 [==============================] - 49s 8s/step - loss: 0.4560 - accuracy: 0.7968 - val_loss: 0.4887 - val_accuracy: 0.7828\n",
            "Epoch 6/20\n",
            "6/6 [==============================] - 48s 8s/step - loss: 0.4293 - accuracy: 0.8133 - val_loss: 0.5200 - val_accuracy: 0.7793\n",
            "Epoch 7/20\n",
            "6/6 [==============================] - 48s 8s/step - loss: 0.4110 - accuracy: 0.8221 - val_loss: 0.5233 - val_accuracy: 0.7658\n",
            "Epoch 8/20\n",
            "6/6 [==============================] - 49s 8s/step - loss: 0.3884 - accuracy: 0.8294 - val_loss: 0.5071 - val_accuracy: 0.7806\n",
            "Epoch 9/20\n",
            "6/6 [==============================] - 48s 8s/step - loss: 0.3555 - accuracy: 0.8501 - val_loss: 0.5144 - val_accuracy: 0.7872\n",
            "Epoch 10/20\n",
            "6/6 [==============================] - 49s 8s/step - loss: 0.3172 - accuracy: 0.8683 - val_loss: 0.5264 - val_accuracy: 0.7842\n",
            "Epoch 11/20\n",
            "6/6 [==============================] - 52s 9s/step - loss: 0.2958 - accuracy: 0.8758 - val_loss: 0.5504 - val_accuracy: 0.7855\n",
            "Epoch 12/20\n",
            "6/6 [==============================] - 56s 9s/step - loss: 0.2655 - accuracy: 0.8955 - val_loss: 0.5786 - val_accuracy: 0.7872\n",
            "Epoch 13/20\n",
            "6/6 [==============================] - 52s 9s/step - loss: 0.2542 - accuracy: 0.8987 - val_loss: 0.6034 - val_accuracy: 0.7728\n",
            "Epoch 14/20\n",
            "6/6 [==============================] - 51s 8s/step - loss: 0.2224 - accuracy: 0.9174 - val_loss: 0.6657 - val_accuracy: 0.7623\n",
            "Epoch 15/20\n",
            "6/6 [==============================] - 55s 9s/step - loss: 0.1992 - accuracy: 0.9242 - val_loss: 0.6951 - val_accuracy: 0.7842\n",
            "Epoch 16/20\n",
            "6/6 [==============================] - 51s 8s/step - loss: 0.2098 - accuracy: 0.9174 - val_loss: 0.7664 - val_accuracy: 0.7478\n",
            "Epoch 17/20\n",
            "6/6 [==============================] - 49s 8s/step - loss: 0.1812 - accuracy: 0.9302 - val_loss: 0.6757 - val_accuracy: 0.7688\n",
            "Epoch 18/20\n",
            "6/6 [==============================] - 49s 8s/step - loss: 0.1504 - accuracy: 0.9469 - val_loss: 0.7164 - val_accuracy: 0.7754\n",
            "Epoch 19/20\n",
            "6/6 [==============================] - 49s 8s/step - loss: 0.1379 - accuracy: 0.9521 - val_loss: 0.8309 - val_accuracy: 0.7675\n",
            "Epoch 20/20\n",
            "6/6 [==============================] - 50s 8s/step - loss: 0.1300 - accuracy: 0.9538 - val_loss: 0.8236 - val_accuracy: 0.7640\n"
          ]
        }
      ]
    },
    {
      "cell_type": "code",
      "source": [
        "plt.plot(history.history['accuracy'])\n",
        "plt.plot(history.history['loss'])\n",
        "plt.title('Train Accuracy and Train Loss')\n",
        "plt.xlabel('epoch')\n",
        "plt.legend(['Accuracy', 'Loss'], loc='upper left')\n",
        "plt.show()"
      ],
      "metadata": {
        "colab": {
          "base_uri": "https://localhost:8080/",
          "height": 295
        },
        "id": "oo123aOv4PeM",
        "outputId": "c2850e7e-8130-446b-95cb-81e2ff05c7ed"
      },
      "execution_count": 36,
      "outputs": [
        {
          "output_type": "display_data",
          "data": {
            "text/plain": [
              "<Figure size 432x288 with 1 Axes>"
            ],
            "image/png": "[encoded data removed]"
          },
          "metadata": {
            "needs_background": "light"
          }
        }
      ]
    },
    {
      "cell_type": "code",
      "source": [
        "# Evaluate the model\n",
        "predicted = model.predict(X_test, verbose=1, batch_size=10000)\n",
        "\n",
        "y_predicted = [1 if each > 0.5 else 0 for each in predicted]\n",
        "\n",
        "score, test_accuracy = model.evaluate(X_test, y_test, batch_size=10000)\n",
        "\n",
        "print(\"Test Accuracy: \", test_accuracy)\n",
        "print(metrics.classification_report(list(y_test), y_predicted))"
      ],
      "metadata": {
        "colab": {
          "base_uri": "https://localhost:8080/"
        },
        "id": "GyODNfko5ocg",
        "outputId": "4277d2c5-cbe6-444e-977a-63ce1ef6f645"
      },
      "execution_count": 37,
      "outputs": [
        {
          "output_type": "stream",
          "name": "stdout",
          "text": [
            "1/1 [==============================] - 6s 6s/step\n",
            "1/1 [==============================] - 5s 5s/step - loss: 0.8236 - accuracy: 0.7640\n",
            "Test Accuracy:  0.764010488986969\n",
            "              precision    recall  f1-score   support\n",
            "\n",
            "           0       0.80      0.79      0.80      1338\n",
            "           1       0.71      0.72      0.72       946\n",
            "\n",
            "    accuracy                           0.76      2284\n",
            "   macro avg       0.76      0.76      0.76      2284\n",
            "weighted avg       0.76      0.76      0.76      2284\n",
            "\n"
          ]
        }
      ]
    },
    {
      "cell_type": "code",
      "source": [
        "# Plot confusion matrix\n",
        "conf_matrix = metrics.confusion_matrix(y_test, y_predicted)\n",
        "\n",
        "fig, ax = plt.subplots()\n",
        "sns.heatmap(conf_matrix, cbar=False, cmap='viridis', annot=True, fmt='d')\n",
        "ax.set(xlabel=\"Predicted Value\", ylabel=\"True Value\", title=\"Confusion Matrix\")\n",
        "ax.set_yticklabels(labels=['0', '1'], rotation=0)\n",
        "plt.show()"
      ],
      "metadata": {
        "colab": {
          "base_uri": "https://localhost:8080/",
          "height": 295
        },
        "id": "UQ_rCGalrA-6",
        "outputId": "063d2bf5-85a1-49d6-b1be-b243096571cb"
      },
      "execution_count": 41,
      "outputs": [
        {
          "output_type": "display_data",
          "data": {
            "text/plain": [
              "<Figure size 432x288 with 1 Axes>"
            ],
            "image/png": "[encoded data removed]"
          },
          "metadata": {
            "needs_background": "light"
          }
        }
      ]
    },
    {
      "cell_type": "code",
      "source": [],
      "metadata": {
        "id": "gSr-FfnQ5zP8"
      },
      "execution_count": null,
      "outputs": []
    }
  ]
}
